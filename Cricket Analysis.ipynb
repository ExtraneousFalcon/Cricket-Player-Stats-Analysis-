{
 "cells": [
  {
   "cell_type": "markdown",
   "id": "294963a1",
   "metadata": {},
   "source": [
    "# Analyzing Cricket Player Statistics\n"
   ]
  },
  {
   "cell_type": "markdown",
   "id": "128fa736",
   "metadata": {},
   "source": [
    "First, let's import some modules. Use pip if you need to install any of these modules."
   ]
  },
  {
   "cell_type": "code",
   "execution_count": 22,
   "id": "4ebf691e",
   "metadata": {},
   "outputs": [],
   "source": [
    "import pandas as pd\n",
    "import numpy as np\n",
    "import matplotlib.pyplot as plt\n",
    "import requests\n",
    "from bs4 import BeautifulSoup"
   ]
  },
  {
   "cell_type": "markdown",
   "id": "76c1b057",
   "metadata": {},
   "source": [
    "We need to specify what format of cricket we want the statistics for. "
   ]
  },
  {
   "cell_type": "code",
   "execution_count": 23,
   "id": "029b7bc4",
   "metadata": {},
   "outputs": [],
   "source": [
    "format = 1\n",
    "\n",
    "format_name = \"\"\n",
    "if format == 1:\n",
    "    format_name = \"Tests\"\n",
    "elif format == 2:\n",
    "    format_name = \"ODIs\"\n",
    "else:\n",
    "    format_name = \"T20s\""
   ]
  },
  {
   "cell_type": "markdown",
   "id": "c1f36d5e",
   "metadata": {},
   "source": [
    "Now, here is where the magic happens.\n",
    "We need to specify a player name (feel free to change the name), then the ESPN webpage is queried using the requests library."
   ]
  },
  {
   "cell_type": "code",
   "execution_count": 24,
   "id": "c4a920b6",
   "metadata": {},
   "outputs": [],
   "source": [
    "player = 'Virat Kohli'\n",
    "url = \"http://search.espncricinfo.com/ci/content/player/search.html?search=\" + player.lower().replace(\" \",\"+\") + \"&x=0&y=0\"\n",
    "page = requests.get(url)"
   ]
  },
  {
   "cell_type": "markdown",
   "id": "1640750a",
   "metadata": {},
   "source": [
    "Inside this page, we get access to the url that leads to a player's home page. However, all we need is the player id, which is part of the hyperlink.\n",
    "\n",
    "Thus, we use the BeautifulSoap library to find the hyperlink and do some text cleaning to get the player-id out of that hyperlink. \n",
    "Once we get the player-id, we can just query a player's stats once again using requests library. This time we send the webpage to pandas to find all the tables and choose the right one that has all the stats."
   ]
  },
  {
   "cell_type": "code",
   "execution_count": 25,
   "id": "6ef9ea7c",
   "metadata": {},
   "outputs": [],
   "source": [
    "soup = BeautifulSoup(page.content, \"html.parser\")\n",
    "player_id = str(soup.find_all(class_='ColumnistSmry')[0]).split('.html')[0].split('/')[-1]\n",
    "df = pd.read_html(f'https://stats.espncricinfo.com/ci/engine/player/{player_id}.html?class={format};template=results;type=batting;view=innings')[3]"
   ]
  },
  {
   "cell_type": "markdown",
   "id": "dc474592",
   "metadata": {},
   "source": [
    "Just a sneak peak at the data. Feel free to explore it further!"
   ]
  },
  {
   "cell_type": "code",
   "execution_count": 26,
   "id": "14a2886c",
   "metadata": {
    "scrolled": true
   },
   "outputs": [
    {
     "data": {
      "text/html": [
       "<div>\n",
       "<style scoped>\n",
       "    .dataframe tbody tr th:only-of-type {\n",
       "        vertical-align: middle;\n",
       "    }\n",
       "\n",
       "    .dataframe tbody tr th {\n",
       "        vertical-align: top;\n",
       "    }\n",
       "\n",
       "    .dataframe thead th {\n",
       "        text-align: right;\n",
       "    }\n",
       "</style>\n",
       "<table border=\"1\" class=\"dataframe\">\n",
       "  <thead>\n",
       "    <tr style=\"text-align: right;\">\n",
       "      <th></th>\n",
       "      <th>Runs</th>\n",
       "      <th>Mins</th>\n",
       "      <th>BF</th>\n",
       "      <th>4s</th>\n",
       "      <th>6s</th>\n",
       "      <th>SR</th>\n",
       "      <th>Pos</th>\n",
       "      <th>Dismissal</th>\n",
       "      <th>Inns</th>\n",
       "      <th>Unnamed: 9</th>\n",
       "      <th>Opposition</th>\n",
       "      <th>Ground</th>\n",
       "      <th>Start Date</th>\n",
       "      <th>Unnamed: 13</th>\n",
       "    </tr>\n",
       "  </thead>\n",
       "  <tbody>\n",
       "    <tr>\n",
       "      <th>0</th>\n",
       "      <td>4</td>\n",
       "      <td>13</td>\n",
       "      <td>10</td>\n",
       "      <td>1</td>\n",
       "      <td>0</td>\n",
       "      <td>40.00</td>\n",
       "      <td>5</td>\n",
       "      <td>caught</td>\n",
       "      <td>1</td>\n",
       "      <td>NaN</td>\n",
       "      <td>v West Indies</td>\n",
       "      <td>Kingston</td>\n",
       "      <td>20 Jun 2011</td>\n",
       "      <td>Test # 1997</td>\n",
       "    </tr>\n",
       "    <tr>\n",
       "      <th>1</th>\n",
       "      <td>15</td>\n",
       "      <td>72</td>\n",
       "      <td>54</td>\n",
       "      <td>2</td>\n",
       "      <td>0</td>\n",
       "      <td>27.77</td>\n",
       "      <td>5</td>\n",
       "      <td>caught</td>\n",
       "      <td>3</td>\n",
       "      <td>NaN</td>\n",
       "      <td>v West Indies</td>\n",
       "      <td>Kingston</td>\n",
       "      <td>20 Jun 2011</td>\n",
       "      <td>Test # 1997</td>\n",
       "    </tr>\n",
       "    <tr>\n",
       "      <th>2</th>\n",
       "      <td>0</td>\n",
       "      <td>1</td>\n",
       "      <td>2</td>\n",
       "      <td>0</td>\n",
       "      <td>0</td>\n",
       "      <td>0.00</td>\n",
       "      <td>5</td>\n",
       "      <td>caught</td>\n",
       "      <td>1</td>\n",
       "      <td>NaN</td>\n",
       "      <td>v West Indies</td>\n",
       "      <td>Bridgetown</td>\n",
       "      <td>28 Jun 2011</td>\n",
       "      <td>Test # 1998</td>\n",
       "    </tr>\n",
       "    <tr>\n",
       "      <th>3</th>\n",
       "      <td>27</td>\n",
       "      <td>118</td>\n",
       "      <td>107</td>\n",
       "      <td>1</td>\n",
       "      <td>1</td>\n",
       "      <td>25.23</td>\n",
       "      <td>5</td>\n",
       "      <td>caught</td>\n",
       "      <td>3</td>\n",
       "      <td>NaN</td>\n",
       "      <td>v West Indies</td>\n",
       "      <td>Bridgetown</td>\n",
       "      <td>28 Jun 2011</td>\n",
       "      <td>Test # 1998</td>\n",
       "    </tr>\n",
       "    <tr>\n",
       "      <th>4</th>\n",
       "      <td>30</td>\n",
       "      <td>62</td>\n",
       "      <td>53</td>\n",
       "      <td>2</td>\n",
       "      <td>0</td>\n",
       "      <td>56.60</td>\n",
       "      <td>5</td>\n",
       "      <td>caught</td>\n",
       "      <td>2</td>\n",
       "      <td>NaN</td>\n",
       "      <td>v West Indies</td>\n",
       "      <td>Roseau</td>\n",
       "      <td>6 Jul 2011</td>\n",
       "      <td>Test # 1999</td>\n",
       "    </tr>\n",
       "  </tbody>\n",
       "</table>\n",
       "</div>"
      ],
      "text/plain": [
       "  Runs Mins   BF 4s 6s     SR Pos Dismissal Inns  Unnamed: 9     Opposition  \\\n",
       "0    4   13   10  1  0  40.00   5    caught    1         NaN  v West Indies   \n",
       "1   15   72   54  2  0  27.77   5    caught    3         NaN  v West Indies   \n",
       "2    0    1    2  0  0   0.00   5    caught    1         NaN  v West Indies   \n",
       "3   27  118  107  1  1  25.23   5    caught    3         NaN  v West Indies   \n",
       "4   30   62   53  2  0  56.60   5    caught    2         NaN  v West Indies   \n",
       "\n",
       "       Ground   Start Date  Unnamed: 13  \n",
       "0    Kingston  20 Jun 2011  Test # 1997  \n",
       "1    Kingston  20 Jun 2011  Test # 1997  \n",
       "2  Bridgetown  28 Jun 2011  Test # 1998  \n",
       "3  Bridgetown  28 Jun 2011  Test # 1998  \n",
       "4      Roseau   6 Jul 2011  Test # 1999  "
      ]
     },
     "execution_count": 26,
     "metadata": {},
     "output_type": "execute_result"
    }
   ],
   "source": [
    "df.head()"
   ]
  },
  {
   "cell_type": "markdown",
   "id": "a2db2d49",
   "metadata": {},
   "source": [
    "Here is where the bulk of our analysis comes in. We iterate through the runs category and keep track of batting average as well as number of centuries scored."
   ]
  },
  {
   "cell_type": "code",
   "execution_count": 11,
   "id": "caf44125",
   "metadata": {},
   "outputs": [],
   "source": [
    "runs = []\n",
    "notout = []\n",
    "innings = 0\n",
    "batting_avg = []\n",
    "hundreds = []\n",
    "for i in df.Runs:\n",
    "    if i != 'DNB' and i != 'TDNB' and i != 'sub':\n",
    "        if '*' not in i:\n",
    "            innings += 1\n",
    "            notout.append(False)\n",
    "        else:\n",
    "            notout.append(True)\n",
    "        runs.append(int(i.replace('*','')))\n",
    "        if innings != 0:\n",
    "            batting_avg.append(sum(runs)/innings)\n",
    "        else:\n",
    "            batting_avg.append(0)\n",
    "        if len(hundreds) == 0:\n",
    "            if runs[0] > 100:\n",
    "                hundreds.append(1)\n",
    "            else:\n",
    "                hundreds.append(0)\n",
    "\n",
    "        if runs[len(runs)-1]>=100 and len(hundreds)>0:\n",
    "            hundreds.append(hundreds[len(hundreds)-1]+1)\n",
    "        elif len(hundreds)>0:\n",
    "            hundreds.append(hundreds[len(hundreds)-1])\n",
    "    else:\n",
    "        if len(runs) == 0:\n",
    "            batting_avg.append(0)\n",
    "            hundreds.append(0)\n",
    "        else:\n",
    "            batting_avg.append(batting_avg[len(batting_avg)-1])\n",
    "            hundreds.append(hundreds[len(hundreds)-1])\n",
    "\n",
    "df['batting_avg'] = pd.Series(batting_avg)\n",
    "df['hundreds'] = pd.Series(hundreds)"
   ]
  },
  {
   "cell_type": "markdown",
   "id": "3587fbea",
   "metadata": {},
   "source": [
    "We plot the results we found using matplotlib!"
   ]
  },
  {
   "cell_type": "code",
   "execution_count": 12,
   "id": "1ecf0e12",
   "metadata": {},
   "outputs": [
    {
     "data": {
      "image/png": "[encoded data removed]",
      "text/plain": [
       "<Figure size 432x288 with 1 Axes>"
      ]
     },
     "metadata": {
      "needs_background": "light"
     },
     "output_type": "display_data"
    }
   ],
   "source": [
    "plt.title(f'{player} Batting Average in {format_name}')\n",
    "plt.xlabel('Innings')\n",
    "plt.ylabel('Batting Average')\n",
    "plt.plot(df['batting_avg'])\n",
    "plt.show()"
   ]
  },
  {
   "cell_type": "code",
   "execution_count": 13,
   "id": "5e409a03",
   "metadata": {},
   "outputs": [
    {
     "data": {
      "image/png": "[encoded data removed]",
      "text/plain": [
       "<Figure size 432x288 with 1 Axes>"
      ]
     },
     "metadata": {
      "needs_background": "light"
     },
     "output_type": "display_data"
    }
   ],
   "source": [
    "plt.title(f'{player} Hundreds in {format_name}')\n",
    "plt.xlabel('Innings')\n",
    "plt.ylabel('Hundreds')\n",
    "plt.plot(df['hundreds'])\n",
    "plt.show()"
   ]
  },
  {
   "cell_type": "markdown",
   "id": "af45ba7f",
   "metadata": {},
   "source": [
    "Now, we just bundle up everything we did above into a single function so we can reuse it."
   ]
  },
  {
   "cell_type": "code",
   "execution_count": 15,
   "id": "ed39abcf",
   "metadata": {},
   "outputs": [],
   "source": [
    "def stats(player, form):\n",
    "        url = \"http://search.espncricinfo.com/ci/content/player/search.html?search=\" + player.lower().replace(\" \",\"+\") + \"&x=0&y=0\"\n",
    "        page = requests.get(url)\n",
    "        soup = BeautifulSoup(page.content, \"html.parser\")\n",
    "        player_id = str(soup.find_all(class_='ColumnistSmry')[0]).split('.html')[0].split('/')[-1]\n",
    "        df = pd.read_html(f'https://stats.espncricinfo.com/ci/engine/player/{player_id}.html?class={form};template=results;type=batting;view=innings')[3]\n",
    "        runs = []\n",
    "        notout = []\n",
    "        innings = 0\n",
    "        batting_avg = []\n",
    "        hundreds = []\n",
    "        \n",
    "        for i in df.Runs:\n",
    "            if i != 'DNB' and i != 'TDNB' and i != 'sub':\n",
    "                if '*' not in i:\n",
    "                    innings += 1\n",
    "                    notout.append(False)\n",
    "                else:\n",
    "                    notout.append(True)\n",
    "                runs.append(int(i.replace('*','')))\n",
    "                batting_avg.append(sum(runs)/innings)\n",
    "                if len(hundreds) == 0:\n",
    "                    if runs[0] > 100:\n",
    "                        hundreds.append(1)\n",
    "                    else:\n",
    "                        hundreds.append(0)\n",
    "        \n",
    "                if runs[len(runs)-1]>=100 and len(hundreds)>0:\n",
    "                    hundreds.append(hundreds[len(hundreds)-1]+1)\n",
    "                elif len(hundreds)>0:\n",
    "                    hundreds.append(hundreds[len(hundreds)-1])\n",
    "            else:\n",
    "                runs.append(0)\n",
    "                if len(runs) == 0:\n",
    "                    batting_avg.append(0)\n",
    "                    hundreds.append(0)\n",
    "                else:\n",
    "                    batting_avg.append(batting_avg[len(batting_avg)-1])\n",
    "                    hundreds.append(hundreds[len(hundreds)-1])\n",
    "        \n",
    "        \n",
    "        \n",
    "        df['batting_avg'] = pd.Series(batting_avg)\n",
    "        df['hundreds'] = pd.Series(hundreds)\n",
    "        df['runs'] = pd.Series(runs)\n",
    "        \n",
    "        return df\n"
   ]
  },
  {
   "cell_type": "code",
   "execution_count": 18,
   "id": "a95de0f4",
   "metadata": {},
   "outputs": [],
   "source": [
    "df = stats('Steven Smith', 1)\n",
    "df2 = stats('Marnus Labuschagne', 1)\n"
   ]
  },
  {
   "cell_type": "markdown",
   "id": "fe95c860",
   "metadata": {},
   "source": [
    "Now we can compare players!"
   ]
  },
  {
   "cell_type": "code",
   "execution_count": 21,
   "id": "35f13eff",
   "metadata": {},
   "outputs": [
    {
     "data": {
      "image/png": "[encoded data removed]",
      "text/plain": [
       "<Figure size 432x288 with 1 Axes>"
      ]
     },
     "metadata": {
      "needs_background": "light"
     },
     "output_type": "display_data"
    }
   ],
   "source": [
    "plt.title(f'Batting Average in {format_name}')\n",
    "plt.xlabel('Innings')\n",
    "plt.ylabel('Batting Average')\n",
    "plt.plot(df['batting_avg'])\n",
    "plt.plot(df2['batting_avg'])\n",
    "plt.legend(['Steven Smith', 'Marnus Labuschagne'])\n",
    "plt.show()"
   ]
  },
  {
   "cell_type": "code",
   "execution_count": null,
   "id": "dc603f3e",
   "metadata": {},
   "outputs": [],
   "source": []
  },
  {
   "cell_type": "code",
   "execution_count": null,
   "id": "a7cf9918",
   "metadata": {},
   "outputs": [],
   "source": []
  }
 ],
 "metadata": {
  "kernelspec": {
   "display_name": "Python 3 (ipykernel)",
   "language": "python",
   "name": "python3"
  },
  "language_info": {
   "codemirror_mode": {
    "name": "ipython",
    "version": 3
   },
   "file_extension": ".py",
   "mimetype": "text/x-python",
   "name": "python",
   "nbconvert_exporter": "python",
   "pygments_lexer": "ipython3",
   "version": "3.7.6"
  }
 },
 "nbformat": 4,
 "nbformat_minor": 5
}
